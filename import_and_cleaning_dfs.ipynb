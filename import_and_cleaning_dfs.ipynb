{
 "cells": [
  {
   "cell_type": "markdown",
   "id": "e588233c",
   "metadata": {},
   "source": [
    "### Load previous records "
   ]
  },
  {
   "cell_type": "code",
   "execution_count": 2,
   "id": "83bd8bd0",
   "metadata": {},
   "outputs": [],
   "source": [
    "import numpy as np\n",
    "import pandas as pd\n",
    "import requests as requests\n",
    "from io import StringIO\n",
    "import csv\n",
    "import os\n",
    "from datetime import datetime\n",
    "import datetime\n",
    "import pytz\n",
    "from time import time\n",
    "import matplotlib.pyplot as plt"
   ]
  },
  {
   "cell_type": "code",
   "execution_count": 3,
   "id": "10980253",
   "metadata": {
    "scrolled": true
   },
   "outputs": [
    {
     "data": {
      "text/html": [
       "<div>\n",
       "<style scoped>\n",
       "    .dataframe tbody tr th:only-of-type {\n",
       "        vertical-align: middle;\n",
       "    }\n",
       "\n",
       "    .dataframe tbody tr th {\n",
       "        vertical-align: top;\n",
       "    }\n",
       "\n",
       "    .dataframe thead th {\n",
       "        text-align: right;\n",
       "    }\n",
       "</style>\n",
       "<table border=\"1\" class=\"dataframe\">\n",
       "  <thead>\n",
       "    <tr style=\"text-align: right;\">\n",
       "      <th></th>\n",
       "      <th>Record_date</th>\n",
       "      <th>Record_day</th>\n",
       "      <th>Record_month</th>\n",
       "      <th>Record_year</th>\n",
       "      <th>Stealing_date</th>\n",
       "      <th>Stealing_hour</th>\n",
       "      <th>Report_stealing_date</th>\n",
       "      <th>Report_stealing_hour</th>\n",
       "      <th>Berlin_code_area</th>\n",
       "      <th>Bike_value</th>\n",
       "      <th>Unsuccesful_attempt</th>\n",
       "      <th>Bike_type</th>\n",
       "      <th>Crime_type</th>\n",
       "      <th>Crime_reason</th>\n",
       "      <th>Administrative_district</th>\n",
       "      <th>District</th>\n",
       "      <th>Quarter</th>\n",
       "      <th>Street_name</th>\n",
       "    </tr>\n",
       "  </thead>\n",
       "  <tbody>\n",
       "    <tr>\n",
       "      <th>0</th>\n",
       "      <td>2022-12-01</td>\n",
       "      <td>1</td>\n",
       "      <td>12</td>\n",
       "      <td>2022</td>\n",
       "      <td>2022-12-01</td>\n",
       "      <td>8</td>\n",
       "      <td>2022-12-01</td>\n",
       "      <td>8</td>\n",
       "      <td>1300836</td>\n",
       "      <td>506</td>\n",
       "      <td>No</td>\n",
       "      <td>Bike</td>\n",
       "      <td>Theft</td>\n",
       "      <td>Aggravated theft</td>\n",
       "      <td>Mitte</td>\n",
       "      <td>Gesundbrunnen</td>\n",
       "      <td>Brunnenstraße Nord</td>\n",
       "      <td>Humboldthain Nordwest</td>\n",
       "    </tr>\n",
       "    <tr>\n",
       "      <th>1</th>\n",
       "      <td>2022-12-01</td>\n",
       "      <td>1</td>\n",
       "      <td>12</td>\n",
       "      <td>2022</td>\n",
       "      <td>2022-11-29</td>\n",
       "      <td>22</td>\n",
       "      <td>2022-11-30</td>\n",
       "      <td>17</td>\n",
       "      <td>1300732</td>\n",
       "      <td>718</td>\n",
       "      <td>No</td>\n",
       "      <td>Bike</td>\n",
       "      <td>Theft</td>\n",
       "      <td>Aggravated theft</td>\n",
       "      <td>Mitte</td>\n",
       "      <td>Gesundbrunnen</td>\n",
       "      <td>Osloer Straße</td>\n",
       "      <td>Soldiner Straße</td>\n",
       "    </tr>\n",
       "    <tr>\n",
       "      <th>2</th>\n",
       "      <td>2022-12-01</td>\n",
       "      <td>1</td>\n",
       "      <td>12</td>\n",
       "      <td>2022</td>\n",
       "      <td>2022-05-28</td>\n",
       "      <td>7</td>\n",
       "      <td>2022-05-28</td>\n",
       "      <td>14</td>\n",
       "      <td>6300526</td>\n",
       "      <td>569</td>\n",
       "      <td>No</td>\n",
       "      <td>Child</td>\n",
       "      <td>Theft</td>\n",
       "      <td>Aggravated theft</td>\n",
       "      <td>Steglitz-Zehlendorf</td>\n",
       "      <td>Zehlendorf Süd/Lichterfelde West</td>\n",
       "      <td>Teltower Damm</td>\n",
       "      <td>Zehlendorf Mitte</td>\n",
       "    </tr>\n",
       "    <tr>\n",
       "      <th>3</th>\n",
       "      <td>2022-12-01</td>\n",
       "      <td>1</td>\n",
       "      <td>12</td>\n",
       "      <td>2022</td>\n",
       "      <td>2022-11-21</td>\n",
       "      <td>9</td>\n",
       "      <td>2022-11-21</td>\n",
       "      <td>16</td>\n",
       "      <td>1100309</td>\n",
       "      <td>600</td>\n",
       "      <td>No</td>\n",
       "      <td>Child</td>\n",
       "      <td>Theft</td>\n",
       "      <td>Aggravated theft</td>\n",
       "      <td>Mitte</td>\n",
       "      <td>Zentrum</td>\n",
       "      <td>Alexanderplatz</td>\n",
       "      <td>Oranienburger Straße</td>\n",
       "    </tr>\n",
       "    <tr>\n",
       "      <th>4</th>\n",
       "      <td>2022-12-01</td>\n",
       "      <td>1</td>\n",
       "      <td>12</td>\n",
       "      <td>2022</td>\n",
       "      <td>2022-11-30</td>\n",
       "      <td>16</td>\n",
       "      <td>2022-12-01</td>\n",
       "      <td>11</td>\n",
       "      <td>3701659</td>\n",
       "      <td>400</td>\n",
       "      <td>No</td>\n",
       "      <td>Men</td>\n",
       "      <td>Theft</td>\n",
       "      <td>Aggravated theft</td>\n",
       "      <td>Pankow</td>\n",
       "      <td>Südlicher Prenzlauer Berg</td>\n",
       "      <td>Prenzlauer Berg Süd</td>\n",
       "      <td>Immanuelkirchstraße</td>\n",
       "    </tr>\n",
       "  </tbody>\n",
       "</table>\n",
       "</div>"
      ],
      "text/plain": [
       "  Record_date  Record_day  Record_month  Record_year Stealing_date  \\\n",
       "0  2022-12-01           1            12         2022    2022-12-01   \n",
       "1  2022-12-01           1            12         2022    2022-11-29   \n",
       "2  2022-12-01           1            12         2022    2022-05-28   \n",
       "3  2022-12-01           1            12         2022    2022-11-21   \n",
       "4  2022-12-01           1            12         2022    2022-11-30   \n",
       "\n",
       "   Stealing_hour Report_stealing_date  Report_stealing_hour  Berlin_code_area  \\\n",
       "0              8           2022-12-01                     8           1300836   \n",
       "1             22           2022-11-30                    17           1300732   \n",
       "2              7           2022-05-28                    14           6300526   \n",
       "3              9           2022-11-21                    16           1100309   \n",
       "4             16           2022-12-01                    11           3701659   \n",
       "\n",
       "   Bike_value Unsuccesful_attempt Bike_type Crime_type      Crime_reason  \\\n",
       "0         506                  No      Bike      Theft  Aggravated theft   \n",
       "1         718                  No      Bike      Theft  Aggravated theft   \n",
       "2         569                  No     Child      Theft  Aggravated theft   \n",
       "3         600                  No     Child      Theft  Aggravated theft   \n",
       "4         400                  No       Men      Theft  Aggravated theft   \n",
       "\n",
       "  Administrative_district                          District  \\\n",
       "0                   Mitte                     Gesundbrunnen   \n",
       "1                   Mitte                     Gesundbrunnen   \n",
       "2     Steglitz-Zehlendorf  Zehlendorf Süd/Lichterfelde West   \n",
       "3                   Mitte                           Zentrum   \n",
       "4                  Pankow         Südlicher Prenzlauer Berg   \n",
       "\n",
       "               Quarter            Street_name  \n",
       "0   Brunnenstraße Nord  Humboldthain Nordwest  \n",
       "1        Osloer Straße        Soldiner Straße  \n",
       "2        Teltower Damm       Zehlendorf Mitte  \n",
       "3       Alexanderplatz   Oranienburger Straße  \n",
       "4  Prenzlauer Berg Süd    Immanuelkirchstraße  "
      ]
     },
     "execution_count": 3,
     "metadata": {},
     "output_type": "execute_result"
    }
   ],
   "source": [
    "df_old_records = pd.read_csv('Bike theft Berlin 2021-01 to 2022-12.csv')\n",
    "df_old_records.head()"
   ]
  },
  {
   "cell_type": "code",
   "execution_count": 4,
   "id": "2b8ef07b",
   "metadata": {
    "scrolled": true
   },
   "outputs": [
    {
     "name": "stdout",
     "output_type": "stream",
     "text": [
      "<class 'pandas.core.frame.DataFrame'>\n",
      "RangeIndex: 40694 entries, 0 to 40693\n",
      "Data columns (total 18 columns):\n",
      " #   Column                   Non-Null Count  Dtype \n",
      "---  ------                   --------------  ----- \n",
      " 0   Record_date              40694 non-null  object\n",
      " 1   Record_day               40694 non-null  int64 \n",
      " 2   Record_month             40694 non-null  int64 \n",
      " 3   Record_year              40694 non-null  int64 \n",
      " 4   Stealing_date            40694 non-null  object\n",
      " 5   Stealing_hour            40694 non-null  int64 \n",
      " 6   Report_stealing_date     40694 non-null  object\n",
      " 7   Report_stealing_hour     40694 non-null  int64 \n",
      " 8   Berlin_code_area         40694 non-null  int64 \n",
      " 9   Bike_value               40694 non-null  int64 \n",
      " 10  Unsuccesful_attempt      40694 non-null  object\n",
      " 11  Bike_type                40694 non-null  object\n",
      " 12  Crime_type               40694 non-null  object\n",
      " 13  Crime_reason             40694 non-null  object\n",
      " 14  Administrative_district  40694 non-null  object\n",
      " 15  District                 40694 non-null  object\n",
      " 16  Quarter                  40694 non-null  object\n",
      " 17  Street_name              40694 non-null  object\n",
      "dtypes: int64(7), object(11)\n",
      "memory usage: 5.6+ MB\n"
     ]
    }
   ],
   "source": [
    "df_old_records.info()"
   ]
  },
  {
   "cell_type": "markdown",
   "id": "a8c27f6b",
   "metadata": {},
   "source": [
    "#### Convert data type for the date columns: `Record_date`, `Stealing_date`,`Report_stealing_date`"
   ]
  },
  {
   "cell_type": "code",
   "execution_count": 5,
   "id": "13c90d59",
   "metadata": {},
   "outputs": [],
   "source": [
    "df_old_records['Record_date'] = pd.to_datetime(df_old_records['Record_date'], dayfirst= True)\n",
    "df_old_records['Stealing_date'] = pd.to_datetime(df_old_records['Stealing_date'], dayfirst= True)\n",
    "df_old_records['Report_stealing_date'] = pd.to_datetime(df_old_records['Report_stealing_date'], dayfirst= True)"
   ]
  },
  {
   "cell_type": "code",
   "execution_count": 6,
   "id": "5343fc8d",
   "metadata": {},
   "outputs": [
    {
     "name": "stdout",
     "output_type": "stream",
     "text": [
      "<class 'pandas.core.frame.DataFrame'>\n",
      "RangeIndex: 40694 entries, 0 to 40693\n",
      "Data columns (total 15 columns):\n",
      " #   Column                   Non-Null Count  Dtype         \n",
      "---  ------                   --------------  -----         \n",
      " 0   Record_date              40694 non-null  datetime64[ns]\n",
      " 1   Stealing_date            40694 non-null  datetime64[ns]\n",
      " 2   Stealing_hour            40694 non-null  int64         \n",
      " 3   Report_stealing_date     40694 non-null  datetime64[ns]\n",
      " 4   Report_stealing_hour     40694 non-null  int64         \n",
      " 5   Berlin_code_area         40694 non-null  int64         \n",
      " 6   Bike_value               40694 non-null  int64         \n",
      " 7   Unsuccesful_attempt      40694 non-null  object        \n",
      " 8   Bike_type                40694 non-null  object        \n",
      " 9   Crime_type               40694 non-null  object        \n",
      " 10  Crime_reason             40694 non-null  object        \n",
      " 11  Administrative_district  40694 non-null  object        \n",
      " 12  District                 40694 non-null  object        \n",
      " 13  Quarter                  40694 non-null  object        \n",
      " 14  Street_name              40694 non-null  object        \n",
      "dtypes: datetime64[ns](3), int64(4), object(8)\n",
      "memory usage: 4.7+ MB\n"
     ]
    }
   ],
   "source": [
    "df_old_records.drop(['Record_day', 'Record_month', 'Record_year'], axis=1, inplace=True)\n",
    "df_old_records.info()"
   ]
  },
  {
   "cell_type": "markdown",
   "id": "919db83a",
   "metadata": {},
   "source": [
    "### Load updated data from \"Berlin Open Data\" site"
   ]
  },
  {
   "cell_type": "code",
   "execution_count": 7,
   "id": "fded3532",
   "metadata": {},
   "outputs": [],
   "source": [
    "import pandas as pd\n",
    "import requests\n",
    "from io import StringIO\n",
    "\n",
    "url = \"https://www.polizei-berlin.eu/Fahrraddiebstahl/Fahrraddiebstahl.csv\"\n",
    "\n",
    "# Fetch the content from the URL\n",
    "response = requests.get(url)\n",
    "\n",
    "if response.status_code == 200:\n",
    "\n",
    "    content = response.content.decode('latin-1')\n",
    "\n",
    "\n",
    "    try:\n",
    "        df_bikes = pd.read_csv(StringIO(content))\n",
    "\n",
    "    except UnicodeDecodeError as e:\n",
    "        print(\"Error decoding data:\", e)\n",
    "else:\n",
    "    print(\"Failed to fetch data from the URL. Status code:\", response.status_code)\n"
   ]
  },
  {
   "cell_type": "code",
   "execution_count": 8,
   "id": "54293bd3",
   "metadata": {},
   "outputs": [
    {
     "data": {
      "text/html": [
       "<div>\n",
       "<style scoped>\n",
       "    .dataframe tbody tr th:only-of-type {\n",
       "        vertical-align: middle;\n",
       "    }\n",
       "\n",
       "    .dataframe tbody tr th {\n",
       "        vertical-align: top;\n",
       "    }\n",
       "\n",
       "    .dataframe thead th {\n",
       "        text-align: right;\n",
       "    }\n",
       "</style>\n",
       "<table border=\"1\" class=\"dataframe\">\n",
       "  <thead>\n",
       "    <tr style=\"text-align: right;\">\n",
       "      <th></th>\n",
       "      <th>ANGELEGT_AM</th>\n",
       "      <th>TATZEIT_ANFANG_DATUM</th>\n",
       "      <th>TATZEIT_ANFANG_STUNDE</th>\n",
       "      <th>TATZEIT_ENDE_DATUM</th>\n",
       "      <th>TATZEIT_ENDE_STUNDE</th>\n",
       "      <th>LOR</th>\n",
       "      <th>SCHADENSHOEHE</th>\n",
       "      <th>VERSUCH</th>\n",
       "      <th>ART_DES_FAHRRADS</th>\n",
       "      <th>DELIKT</th>\n",
       "      <th>ERFASSUNGSGRUND</th>\n",
       "    </tr>\n",
       "  </thead>\n",
       "  <tbody>\n",
       "    <tr>\n",
       "      <th>0</th>\n",
       "      <td>25.07.2023</td>\n",
       "      <td>23.07.2023</td>\n",
       "      <td>22</td>\n",
       "      <td>24.07.2023</td>\n",
       "      <td>10</td>\n",
       "      <td>8100416</td>\n",
       "      <td>1600</td>\n",
       "      <td>Nein</td>\n",
       "      <td>Herrenfahrrad</td>\n",
       "      <td>Fahrraddiebstahl</td>\n",
       "      <td>Sonstiger schwerer Diebstahl von Fahrrädern</td>\n",
       "    </tr>\n",
       "    <tr>\n",
       "      <th>1</th>\n",
       "      <td>25.07.2023</td>\n",
       "      <td>23.07.2023</td>\n",
       "      <td>19</td>\n",
       "      <td>24.07.2023</td>\n",
       "      <td>21</td>\n",
       "      <td>1100103</td>\n",
       "      <td>1189</td>\n",
       "      <td>Nein</td>\n",
       "      <td>Damenfahrrad</td>\n",
       "      <td>Fahrraddiebstahl</td>\n",
       "      <td>Sonstiger schwerer Diebstahl von Fahrrädern</td>\n",
       "    </tr>\n",
       "    <tr>\n",
       "      <th>2</th>\n",
       "      <td>25.07.2023</td>\n",
       "      <td>25.07.2023</td>\n",
       "      <td>13</td>\n",
       "      <td>25.07.2023</td>\n",
       "      <td>13</td>\n",
       "      <td>2300418</td>\n",
       "      <td>0</td>\n",
       "      <td>Nein</td>\n",
       "      <td>Herrenfahrrad</td>\n",
       "      <td>Fahrraddiebstahl</td>\n",
       "      <td>Einfacher Diebstahl von Fahrrädern</td>\n",
       "    </tr>\n",
       "    <tr>\n",
       "      <th>3</th>\n",
       "      <td>25.07.2023</td>\n",
       "      <td>21.07.2023</td>\n",
       "      <td>16</td>\n",
       "      <td>24.07.2023</td>\n",
       "      <td>7</td>\n",
       "      <td>3701660</td>\n",
       "      <td>500</td>\n",
       "      <td>Nein</td>\n",
       "      <td>Damenfahrrad</td>\n",
       "      <td>Fahrraddiebstahl</td>\n",
       "      <td>Sonstiger schwerer Diebstahl von Fahrrädern</td>\n",
       "    </tr>\n",
       "    <tr>\n",
       "      <th>4</th>\n",
       "      <td>25.07.2023</td>\n",
       "      <td>24.07.2023</td>\n",
       "      <td>15</td>\n",
       "      <td>24.07.2023</td>\n",
       "      <td>19</td>\n",
       "      <td>8300934</td>\n",
       "      <td>1051</td>\n",
       "      <td>Nein</td>\n",
       "      <td>diverse Fahrräder</td>\n",
       "      <td>Fahrraddiebstahl</td>\n",
       "      <td>Sonstiger schwerer Diebstahl von Fahrrädern</td>\n",
       "    </tr>\n",
       "  </tbody>\n",
       "</table>\n",
       "</div>"
      ],
      "text/plain": [
       "  ANGELEGT_AM TATZEIT_ANFANG_DATUM  TATZEIT_ANFANG_STUNDE TATZEIT_ENDE_DATUM  \\\n",
       "0  25.07.2023           23.07.2023                     22         24.07.2023   \n",
       "1  25.07.2023           23.07.2023                     19         24.07.2023   \n",
       "2  25.07.2023           25.07.2023                     13         25.07.2023   \n",
       "3  25.07.2023           21.07.2023                     16         24.07.2023   \n",
       "4  25.07.2023           24.07.2023                     15         24.07.2023   \n",
       "\n",
       "   TATZEIT_ENDE_STUNDE      LOR  SCHADENSHOEHE VERSUCH   ART_DES_FAHRRADS  \\\n",
       "0                   10  8100416           1600    Nein      Herrenfahrrad   \n",
       "1                   21  1100103           1189    Nein       Damenfahrrad   \n",
       "2                   13  2300418              0    Nein      Herrenfahrrad   \n",
       "3                    7  3701660            500    Nein       Damenfahrrad   \n",
       "4                   19  8300934           1051    Nein  diverse Fahrräder   \n",
       "\n",
       "             DELIKT                              ERFASSUNGSGRUND  \n",
       "0  Fahrraddiebstahl  Sonstiger schwerer Diebstahl von Fahrrädern  \n",
       "1  Fahrraddiebstahl  Sonstiger schwerer Diebstahl von Fahrrädern  \n",
       "2  Fahrraddiebstahl           Einfacher Diebstahl von Fahrrädern  \n",
       "3  Fahrraddiebstahl  Sonstiger schwerer Diebstahl von Fahrrädern  \n",
       "4  Fahrraddiebstahl  Sonstiger schwerer Diebstahl von Fahrrädern  "
      ]
     },
     "execution_count": 8,
     "metadata": {},
     "output_type": "execute_result"
    }
   ],
   "source": [
    "df_bikes.head()"
   ]
  },
  {
   "cell_type": "markdown",
   "id": "46d532e9",
   "metadata": {},
   "source": [
    "### Procesing raw data"
   ]
  },
  {
   "cell_type": "code",
   "execution_count": 9,
   "id": "50bd6afe",
   "metadata": {},
   "outputs": [
    {
     "name": "stdout",
     "output_type": "stream",
     "text": [
      "<class 'pandas.core.frame.DataFrame'>\n",
      "RangeIndex: 34837 entries, 0 to 34836\n",
      "Data columns (total 11 columns):\n",
      " #   Column                Non-Null Count  Dtype \n",
      "---  ------                --------------  ----- \n",
      " 0   Record_date           34837 non-null  object\n",
      " 1   Stealing_date         34837 non-null  object\n",
      " 2   Stealing_hour         34837 non-null  int64 \n",
      " 3   Report_stealing_date  34837 non-null  object\n",
      " 4   Report_stealing_hour  34837 non-null  int64 \n",
      " 5   Berlin_code_area      34837 non-null  int64 \n",
      " 6   Bike_value            34837 non-null  int64 \n",
      " 7   Unsuccesful_attempt   34837 non-null  object\n",
      " 8   Bike_type             34837 non-null  object\n",
      " 9   Crime_type            34837 non-null  object\n",
      " 10  Crime_reason          34837 non-null  object\n",
      "dtypes: int64(4), object(7)\n",
      "memory usage: 2.9+ MB\n"
     ]
    }
   ],
   "source": [
    "# renaming German names into English language to match the names with the old records\n",
    "\n",
    "df_bikes.columns = [\"Record_date\", \"Stealing_date\", \"Stealing_hour\", \"Report_stealing_date\",\n",
    "              \"Report_stealing_hour\", \"Berlin_code_area\", \"Bike_value\", \"Unsuccesful_attempt\",\n",
    "              \"Bike_type\", \"Crime_type\", \"Crime_reason\"]\n",
    "\n",
    "df_bikes.info()"
   ]
  },
  {
   "cell_type": "code",
   "execution_count": 10,
   "id": "322c7ce3",
   "metadata": {},
   "outputs": [
    {
     "data": {
      "text/plain": [
       "array(['Nein', 'Ja', 'Unbekannt'], dtype=object)"
      ]
     },
     "execution_count": 10,
     "metadata": {},
     "output_type": "execute_result"
    }
   ],
   "source": [
    "df_bikes['Unsuccesful_attempt'].unique()"
   ]
  },
  {
   "cell_type": "code",
   "execution_count": 11,
   "id": "e3c648a4",
   "metadata": {},
   "outputs": [
    {
     "data": {
      "text/plain": [
       "array(['No', 'Yes', 'Unknown'], dtype=object)"
      ]
     },
     "execution_count": 11,
     "metadata": {},
     "output_type": "execute_result"
    }
   ],
   "source": [
    "#rename values in 'Unsuccesful_attempt' column\n",
    "\n",
    "df_bikes[\"Unsuccesful_attempt\"].replace({'Nein' : 'No', 'Ja' : 'Yes', 'Unbekannt' : 'Unknown'}, inplace=True)\n",
    "\n",
    "df_bikes['Unsuccesful_attempt'].unique()"
   ]
  },
  {
   "cell_type": "code",
   "execution_count": 12,
   "id": "17b04015",
   "metadata": {},
   "outputs": [],
   "source": [
    "df_bikes[\"Crime_type\"].replace(to_replace=[\"Fahrraddiebstahl\", \"Keller- und Bodeneinbruch\"], \n",
    "                         value=[\"Theft\", \"Break-in\"], inplace=True)"
   ]
  },
  {
   "cell_type": "code",
   "execution_count": 13,
   "id": "e6cfb5f2",
   "metadata": {},
   "outputs": [
    {
     "data": {
      "text/plain": [
       "Men                  16157\n",
       "Women                 9387\n",
       "Bike                  4888\n",
       "Mountain              1448\n",
       "Child                 1410\n",
       "diverse Fahrräder      914\n",
       "Racing                 537\n",
       "Cargo                   96\n",
       "Name: Bike_type, dtype: int64"
      ]
     },
     "execution_count": 13,
     "metadata": {},
     "output_type": "execute_result"
    }
   ],
   "source": [
    "df_bikes[\"Bike_type\"].replace({\"Herrenfahrrad\" : \"Men\", \"Damenfahrrad\" : \"Women\", \"Fahrrad\" : \"Bike\", \n",
    "                         \"Mountainbike\" : \"Mountain\", \"Kinderfahrrad\" : \"Child\", \n",
    "                         \"Diverse Fahrräder\" : \"Bike\", \"Rennrad\" : \"Racing\", \"Lastenfahrrad\" : \"Cargo\"}, inplace=True)\n",
    "\n",
    "df_bikes['Bike_type'].value_counts()"
   ]
  },
  {
   "cell_type": "markdown",
   "id": "d2ff95df",
   "metadata": {},
   "source": [
    "### Change type of category Crime_reason\n"
   ]
  },
  {
   "cell_type": "code",
   "execution_count": 14,
   "id": "781ea9da",
   "metadata": {},
   "outputs": [
    {
     "data": {
      "text/plain": [
       "Aggravated theft                        31418\n",
       "Theft                                    1735\n",
       "Aggravated theft from basement/floor     1621\n",
       "Theft from basement/floor                  63\n",
       "Name: Crime_reason, dtype: int64"
      ]
     },
     "execution_count": 14,
     "metadata": {},
     "output_type": "execute_result"
    }
   ],
   "source": [
    "# Category aggrevated theft = theft with break-in, theft with robbery (aggresor has to use force)\n",
    "\n",
    "df_bikes[\"Crime_reason\"].replace(to_replace=[\"Sonstiger schwerer Diebstahl von Fahrrädern\", \n",
    "                                       \"Einfacher Diebstahl von Fahrrädern\",\n",
    "                                       \"Sonstiger schwerer Diebstahl in/aus Keller/Boden von Fahrrädern\", \n",
    "                                       \"Einfacher Diebstahl aus Keller/Boden von Fahrrädern\"],\n",
    "                           value=[\"Aggravated theft\", \"Theft\", \"Aggravated theft from basement/floor\", \n",
    "                                  \"Theft from basement/floor\"], inplace=True)\n",
    "\n",
    "df_bikes['Crime_reason'].value_counts()"
   ]
  },
  {
   "cell_type": "markdown",
   "id": "0dea915c",
   "metadata": {},
   "source": [
    " ### Converting columns type from object to a datetime format"
   ]
  },
  {
   "cell_type": "code",
   "execution_count": 15,
   "id": "18709f68",
   "metadata": {},
   "outputs": [],
   "source": [
    "df_bikes['Record_date'] = pd.to_datetime(df_bikes['Record_date'], dayfirst= True)\n",
    "df_bikes['Stealing_date'] = pd.to_datetime(df_bikes['Stealing_date'], dayfirst= True)\n",
    "df_bikes['Report_stealing_date'] = pd.to_datetime(df_bikes['Report_stealing_date'], dayfirst= True)\n"
   ]
  },
  {
   "cell_type": "code",
   "execution_count": 16,
   "id": "d45866ea",
   "metadata": {},
   "outputs": [
    {
     "name": "stdout",
     "output_type": "stream",
     "text": [
      "<class 'pandas.core.frame.DataFrame'>\n",
      "RangeIndex: 34837 entries, 0 to 34836\n",
      "Data columns (total 11 columns):\n",
      " #   Column                Non-Null Count  Dtype         \n",
      "---  ------                --------------  -----         \n",
      " 0   Record_date           34837 non-null  datetime64[ns]\n",
      " 1   Stealing_date         34837 non-null  datetime64[ns]\n",
      " 2   Stealing_hour         34837 non-null  int64         \n",
      " 3   Report_stealing_date  34837 non-null  datetime64[ns]\n",
      " 4   Report_stealing_hour  34837 non-null  int64         \n",
      " 5   Berlin_code_area      34837 non-null  int64         \n",
      " 6   Bike_value            34837 non-null  int64         \n",
      " 7   Unsuccesful_attempt   34837 non-null  object        \n",
      " 8   Bike_type             34837 non-null  object        \n",
      " 9   Crime_type            34837 non-null  object        \n",
      " 10  Crime_reason          34837 non-null  object        \n",
      "dtypes: datetime64[ns](3), int64(4), object(4)\n",
      "memory usage: 2.9+ MB\n"
     ]
    }
   ],
   "source": [
    "df_bikes.info()"
   ]
  },
  {
   "cell_type": "markdown",
   "id": "65a6687b",
   "metadata": {},
   "source": [
    "## Load csv file with LOR (Lebensweltlich orientierte Räume (LOR) = Spatial Planning Unit for Berlin)\n",
    "\n",
    "The dataset was prepared in advance. File contain columns:\n",
    "- Berlin_code_area\n",
    "- Administrative_district\n",
    "- District\n",
    "- Quater\n",
    "- Street_name"
   ]
  },
  {
   "cell_type": "code",
   "execution_count": 17,
   "id": "e9c615ea",
   "metadata": {},
   "outputs": [
    {
     "data": {
      "text/html": [
       "<div>\n",
       "<style scoped>\n",
       "    .dataframe tbody tr th:only-of-type {\n",
       "        vertical-align: middle;\n",
       "    }\n",
       "\n",
       "    .dataframe tbody tr th {\n",
       "        vertical-align: top;\n",
       "    }\n",
       "\n",
       "    .dataframe thead th {\n",
       "        text-align: right;\n",
       "    }\n",
       "</style>\n",
       "<table border=\"1\" class=\"dataframe\">\n",
       "  <thead>\n",
       "    <tr style=\"text-align: right;\">\n",
       "      <th></th>\n",
       "      <th>Berlin_code_area</th>\n",
       "      <th>Administrative_district</th>\n",
       "      <th>District</th>\n",
       "      <th>Quarter</th>\n",
       "      <th>Street_name</th>\n",
       "    </tr>\n",
       "  </thead>\n",
       "  <tbody>\n",
       "    <tr>\n",
       "      <th>0</th>\n",
       "      <td>1100101</td>\n",
       "      <td>Mitte</td>\n",
       "      <td>Zentrum</td>\n",
       "      <td>Tiergarten Süd</td>\n",
       "      <td>Stülerstraße</td>\n",
       "    </tr>\n",
       "    <tr>\n",
       "      <th>1</th>\n",
       "      <td>1100102</td>\n",
       "      <td>Mitte</td>\n",
       "      <td>Zentrum</td>\n",
       "      <td>Tiergarten Süd</td>\n",
       "      <td>Großer Tiergarten</td>\n",
       "    </tr>\n",
       "    <tr>\n",
       "      <th>2</th>\n",
       "      <td>1100103</td>\n",
       "      <td>Mitte</td>\n",
       "      <td>Zentrum</td>\n",
       "      <td>Tiergarten Süd</td>\n",
       "      <td>Lützowstraße</td>\n",
       "    </tr>\n",
       "    <tr>\n",
       "      <th>3</th>\n",
       "      <td>1100104</td>\n",
       "      <td>Mitte</td>\n",
       "      <td>Zentrum</td>\n",
       "      <td>Tiergarten Süd</td>\n",
       "      <td>Körnerstraße</td>\n",
       "    </tr>\n",
       "    <tr>\n",
       "      <th>4</th>\n",
       "      <td>1100205</td>\n",
       "      <td>Mitte</td>\n",
       "      <td>Zentrum</td>\n",
       "      <td>Regierungsviertel</td>\n",
       "      <td>Wilhelmstraße</td>\n",
       "    </tr>\n",
       "    <tr>\n",
       "      <th>...</th>\n",
       "      <td>...</td>\n",
       "      <td>...</td>\n",
       "      <td>...</td>\n",
       "      <td>...</td>\n",
       "      <td>...</td>\n",
       "    </tr>\n",
       "    <tr>\n",
       "      <th>537</th>\n",
       "      <td>12601032</td>\n",
       "      <td>Reinickendorf</td>\n",
       "      <td>Märkisches Viertel</td>\n",
       "      <td>Rollbergesiedlung</td>\n",
       "      <td>Rollbergesiedlung</td>\n",
       "    </tr>\n",
       "    <tr>\n",
       "      <th>538</th>\n",
       "      <td>12601133</td>\n",
       "      <td>Reinickendorf</td>\n",
       "      <td>Märkisches Viertel</td>\n",
       "      <td>MV Nord</td>\n",
       "      <td>Treuenbrietzener Straße</td>\n",
       "    </tr>\n",
       "    <tr>\n",
       "      <th>539</th>\n",
       "      <td>12601134</td>\n",
       "      <td>Reinickendorf</td>\n",
       "      <td>Märkisches Viertel</td>\n",
       "      <td>MV Nord</td>\n",
       "      <td>Märkisches Zentrum</td>\n",
       "    </tr>\n",
       "    <tr>\n",
       "      <th>540</th>\n",
       "      <td>12601235</td>\n",
       "      <td>Reinickendorf</td>\n",
       "      <td>Märkisches Viertel</td>\n",
       "      <td>MV Süd</td>\n",
       "      <td>Dannenwalder Weg</td>\n",
       "    </tr>\n",
       "    <tr>\n",
       "      <th>541</th>\n",
       "      <td>12601236</td>\n",
       "      <td>Reinickendorf</td>\n",
       "      <td>Märkisches Viertel</td>\n",
       "      <td>MV Süd</td>\n",
       "      <td>Schorfheidestraße</td>\n",
       "    </tr>\n",
       "  </tbody>\n",
       "</table>\n",
       "<p>542 rows × 5 columns</p>\n",
       "</div>"
      ],
      "text/plain": [
       "     Berlin_code_area Administrative_district            District  \\\n",
       "0             1100101                   Mitte             Zentrum   \n",
       "1             1100102                   Mitte             Zentrum   \n",
       "2             1100103                   Mitte             Zentrum   \n",
       "3             1100104                   Mitte             Zentrum   \n",
       "4             1100205                   Mitte             Zentrum   \n",
       "..                ...                     ...                 ...   \n",
       "537          12601032           Reinickendorf  Märkisches Viertel   \n",
       "538          12601133           Reinickendorf  Märkisches Viertel   \n",
       "539          12601134           Reinickendorf  Märkisches Viertel   \n",
       "540          12601235           Reinickendorf  Märkisches Viertel   \n",
       "541          12601236           Reinickendorf  Märkisches Viertel   \n",
       "\n",
       "               Quarter              Street_name  \n",
       "0       Tiergarten Süd             Stülerstraße  \n",
       "1       Tiergarten Süd        Großer Tiergarten  \n",
       "2       Tiergarten Süd             Lützowstraße  \n",
       "3       Tiergarten Süd             Körnerstraße  \n",
       "4    Regierungsviertel            Wilhelmstraße  \n",
       "..                 ...                      ...  \n",
       "537  Rollbergesiedlung        Rollbergesiedlung  \n",
       "538            MV Nord  Treuenbrietzener Straße  \n",
       "539            MV Nord       Märkisches Zentrum  \n",
       "540             MV Süd         Dannenwalder Weg  \n",
       "541             MV Süd        Schorfheidestraße  \n",
       "\n",
       "[542 rows x 5 columns]"
      ]
     },
     "execution_count": 17,
     "metadata": {},
     "output_type": "execute_result"
    }
   ],
   "source": [
    "df_lor = pd.read_csv('BER_LOR_code.csv')\n",
    "df_lor"
   ]
  },
  {
   "cell_type": "markdown",
   "id": "3f673d9f",
   "metadata": {},
   "source": [
    "### Join the updated data `df_bikes` with the LOR data on the `Berlin_code_area` column \n"
   ]
  },
  {
   "cell_type": "code",
   "execution_count": 18,
   "id": "6b62c2e4",
   "metadata": {},
   "outputs": [
    {
     "name": "stdout",
     "output_type": "stream",
     "text": [
      "<class 'pandas.core.frame.DataFrame'>\n",
      "Int64Index: 34837 entries, 0 to 34836\n",
      "Data columns (total 15 columns):\n",
      " #   Column                   Non-Null Count  Dtype         \n",
      "---  ------                   --------------  -----         \n",
      " 0   Record_date              34837 non-null  datetime64[ns]\n",
      " 1   Stealing_date            34837 non-null  datetime64[ns]\n",
      " 2   Stealing_hour            34837 non-null  int64         \n",
      " 3   Report_stealing_date     34837 non-null  datetime64[ns]\n",
      " 4   Report_stealing_hour     34837 non-null  int64         \n",
      " 5   Berlin_code_area         34837 non-null  int64         \n",
      " 6   Bike_value               34837 non-null  int64         \n",
      " 7   Unsuccesful_attempt      34837 non-null  object        \n",
      " 8   Bike_type                34837 non-null  object        \n",
      " 9   Crime_type               34837 non-null  object        \n",
      " 10  Crime_reason             34837 non-null  object        \n",
      " 11  Administrative_district  34837 non-null  object        \n",
      " 12  District                 34837 non-null  object        \n",
      " 13  Quarter                  34837 non-null  object        \n",
      " 14  Street_name              34837 non-null  object        \n",
      "dtypes: datetime64[ns](3), int64(4), object(8)\n",
      "memory usage: 4.3+ MB\n"
     ]
    }
   ],
   "source": [
    "df_bikes_new = pd.merge(df_bikes, df_lor, on='Berlin_code_area', how='left')\n",
    "df_bikes_new.info()"
   ]
  },
  {
   "cell_type": "markdown",
   "id": "b3aed0b8",
   "metadata": {},
   "source": [
    "### Concatenate old and new data into a new df "
   ]
  },
  {
   "cell_type": "code",
   "execution_count": 19,
   "id": "b9e40d89",
   "metadata": {},
   "outputs": [
    {
     "name": "stdout",
     "output_type": "stream",
     "text": [
      "<class 'pandas.core.frame.DataFrame'>\n",
      "RangeIndex: 75531 entries, 0 to 75530\n",
      "Data columns (total 15 columns):\n",
      " #   Column                   Non-Null Count  Dtype         \n",
      "---  ------                   --------------  -----         \n",
      " 0   Record_date              75531 non-null  datetime64[ns]\n",
      " 1   Stealing_date            75531 non-null  datetime64[ns]\n",
      " 2   Stealing_hour            75531 non-null  int64         \n",
      " 3   Report_stealing_date     75531 non-null  datetime64[ns]\n",
      " 4   Report_stealing_hour     75531 non-null  int64         \n",
      " 5   Berlin_code_area         75531 non-null  int64         \n",
      " 6   Bike_value               75531 non-null  int64         \n",
      " 7   Unsuccesful_attempt      75531 non-null  object        \n",
      " 8   Bike_type                75531 non-null  object        \n",
      " 9   Crime_type               75531 non-null  object        \n",
      " 10  Crime_reason             75531 non-null  object        \n",
      " 11  Administrative_district  75531 non-null  object        \n",
      " 12  District                 75531 non-null  object        \n",
      " 13  Quarter                  75531 non-null  object        \n",
      " 14  Street_name              75531 non-null  object        \n",
      "dtypes: datetime64[ns](3), int64(4), object(8)\n",
      "memory usage: 8.6+ MB\n"
     ]
    }
   ],
   "source": [
    "df_merged = pd.concat([df_old_records,df_bikes_new], ignore_index=True)\n",
    "df_merged.info()"
   ]
  },
  {
   "cell_type": "markdown",
   "id": "8f49b21d",
   "metadata": {},
   "source": [
    "### Remove duplicates (records from 2022 are repeated)"
   ]
  },
  {
   "cell_type": "code",
   "execution_count": 20,
   "id": "d1c4c016",
   "metadata": {},
   "outputs": [],
   "source": [
    "df = df_merged.drop_duplicates()"
   ]
  },
  {
   "cell_type": "code",
   "execution_count": 21,
   "id": "3b2f594e",
   "metadata": {},
   "outputs": [
    {
     "name": "stdout",
     "output_type": "stream",
     "text": [
      "<class 'pandas.core.frame.DataFrame'>\n",
      "Int64Index: 55004 entries, 0 to 75524\n",
      "Data columns (total 15 columns):\n",
      " #   Column                   Non-Null Count  Dtype         \n",
      "---  ------                   --------------  -----         \n",
      " 0   Record_date              55004 non-null  datetime64[ns]\n",
      " 1   Stealing_date            55004 non-null  datetime64[ns]\n",
      " 2   Stealing_hour            55004 non-null  int64         \n",
      " 3   Report_stealing_date     55004 non-null  datetime64[ns]\n",
      " 4   Report_stealing_hour     55004 non-null  int64         \n",
      " 5   Berlin_code_area         55004 non-null  int64         \n",
      " 6   Bike_value               55004 non-null  int64         \n",
      " 7   Unsuccesful_attempt      55004 non-null  object        \n",
      " 8   Bike_type                55004 non-null  object        \n",
      " 9   Crime_type               55004 non-null  object        \n",
      " 10  Crime_reason             55004 non-null  object        \n",
      " 11  Administrative_district  55004 non-null  object        \n",
      " 12  District                 55004 non-null  object        \n",
      " 13  Quarter                  55004 non-null  object        \n",
      " 14  Street_name              55004 non-null  object        \n",
      "dtypes: datetime64[ns](3), int64(4), object(8)\n",
      "memory usage: 6.7+ MB\n"
     ]
    }
   ],
   "source": [
    "df.info()"
   ]
  },
  {
   "cell_type": "markdown",
   "id": "ec3e11db",
   "metadata": {},
   "source": [
    "### df to a `.csv` file"
   ]
  },
  {
   "cell_type": "code",
   "execution_count": 22,
   "id": "eb03a714",
   "metadata": {},
   "outputs": [],
   "source": [
    "df.to_csv('df_final.csv', index=False)"
   ]
  },
  {
   "cell_type": "markdown",
   "id": "0d027c53",
   "metadata": {},
   "source": [
    "### Getting demographic data from wikipedia using BeautifulSoup library  "
   ]
  },
  {
   "cell_type": "code",
   "execution_count": 97,
   "id": "70d42fe2",
   "metadata": {},
   "outputs": [],
   "source": [
    "import requests\n",
    "from bs4 import BeautifulSoup\n",
    "import pandas as pd"
   ]
  },
  {
   "cell_type": "code",
   "execution_count": 98,
   "id": "a8ed869b",
   "metadata": {},
   "outputs": [],
   "source": [
    "url = 'https://de.wikipedia.org/wiki/Verwaltungsgliederung_Berlins'\n",
    "\n",
    "response = requests.get(url)\n",
    "soup = BeautifulSoup(response.content, 'html.parser')\n",
    "\n",
    "# Find all tables on the page with the 'wikitable' class\n",
    "tables = soup.find_all('table', class_='wikitable')\n",
    "\n",
    "# Select the second table (index 1) from the list of tables\n",
    "table = tables[1]\n",
    "\n",
    "# Extract data from the table and store it in a list of lists\n",
    "data = []\n",
    "for row in table.find_all('tr'):\n",
    "    row_data = [cell.get_text(strip=True) for cell in row.find_all(['th', 'td'])]\n",
    "    data.append(row_data)\n",
    "\n",
    "df_demo = pd.DataFrame(data[1:], columns=data[0])"
   ]
  },
  {
   "cell_type": "code",
   "execution_count": 99,
   "id": "e6888c86",
   "metadata": {},
   "outputs": [
    {
     "data": {
      "text/html": [
       "<div>\n",
       "<style scoped>\n",
       "    .dataframe tbody tr th:only-of-type {\n",
       "        vertical-align: middle;\n",
       "    }\n",
       "\n",
       "    .dataframe tbody tr th {\n",
       "        vertical-align: top;\n",
       "    }\n",
       "\n",
       "    .dataframe thead th {\n",
       "        text-align: right;\n",
       "    }\n",
       "</style>\n",
       "<table border=\"1\" class=\"dataframe\">\n",
       "  <thead>\n",
       "    <tr style=\"text-align: right;\">\n",
       "      <th></th>\n",
       "      <th>Nr.</th>\n",
       "      <th>Ortsteil</th>\n",
       "      <th>Bezirk</th>\n",
       "      <th>Fläche(km²)</th>\n",
       "      <th>Einwohner[2](31. Dezember 2022)</th>\n",
       "      <th>Einwohnerpro km²</th>\n",
       "    </tr>\n",
       "  </thead>\n",
       "  <tbody>\n",
       "    <tr>\n",
       "      <th>0</th>\n",
       "      <td>0101</td>\n",
       "      <td>Mitte</td>\n",
       "      <td>Mitte</td>\n",
       "      <td>10,70</td>\n",
       "      <td>107.444</td>\n",
       "      <td>10.041</td>\n",
       "    </tr>\n",
       "    <tr>\n",
       "      <th>1</th>\n",
       "      <td>0102</td>\n",
       "      <td>Moabit</td>\n",
       "      <td>Mitte</td>\n",
       "      <td>7,72</td>\n",
       "      <td>84.148</td>\n",
       "      <td>10.900</td>\n",
       "    </tr>\n",
       "    <tr>\n",
       "      <th>2</th>\n",
       "      <td>0103</td>\n",
       "      <td>Hansaviertel</td>\n",
       "      <td>Mitte</td>\n",
       "      <td>0,53</td>\n",
       "      <td>6.070</td>\n",
       "      <td>11.453</td>\n",
       "    </tr>\n",
       "    <tr>\n",
       "      <th>3</th>\n",
       "      <td>0104</td>\n",
       "      <td>Tiergarten</td>\n",
       "      <td>Mitte</td>\n",
       "      <td>5,17</td>\n",
       "      <td>16.140</td>\n",
       "      <td>3122</td>\n",
       "    </tr>\n",
       "    <tr>\n",
       "      <th>4</th>\n",
       "      <td>0105</td>\n",
       "      <td>Wedding</td>\n",
       "      <td>Mitte</td>\n",
       "      <td>9,23</td>\n",
       "      <td>86.514</td>\n",
       "      <td>9373</td>\n",
       "    </tr>\n",
       "    <tr>\n",
       "      <th>...</th>\n",
       "      <td>...</td>\n",
       "      <td>...</td>\n",
       "      <td>...</td>\n",
       "      <td>...</td>\n",
       "      <td>...</td>\n",
       "      <td>...</td>\n",
       "    </tr>\n",
       "    <tr>\n",
       "      <th>92</th>\n",
       "      <td>1207</td>\n",
       "      <td>Waidmannslust</td>\n",
       "      <td>Reinickendorf</td>\n",
       "      <td>2,30</td>\n",
       "      <td>11.240</td>\n",
       "      <td>4887</td>\n",
       "    </tr>\n",
       "    <tr>\n",
       "      <th>93</th>\n",
       "      <td>1208</td>\n",
       "      <td>Lübars</td>\n",
       "      <td>Reinickendorf</td>\n",
       "      <td>5,00</td>\n",
       "      <td>5.092</td>\n",
       "      <td>1018</td>\n",
       "    </tr>\n",
       "    <tr>\n",
       "      <th>94</th>\n",
       "      <td>1209</td>\n",
       "      <td>Wittenau</td>\n",
       "      <td>Reinickendorf</td>\n",
       "      <td>5,90</td>\n",
       "      <td>25.346</td>\n",
       "      <td>4296</td>\n",
       "    </tr>\n",
       "    <tr>\n",
       "      <th>95</th>\n",
       "      <td>1210</td>\n",
       "      <td>Märkisches Viertel</td>\n",
       "      <td>Reinickendorf</td>\n",
       "      <td>3,20</td>\n",
       "      <td>41.099</td>\n",
       "      <td>12.843</td>\n",
       "    </tr>\n",
       "    <tr>\n",
       "      <th>96</th>\n",
       "      <td>1211</td>\n",
       "      <td>Borsigwalde</td>\n",
       "      <td>Reinickendorf</td>\n",
       "      <td>2,00</td>\n",
       "      <td>6.911</td>\n",
       "      <td>3456</td>\n",
       "    </tr>\n",
       "  </tbody>\n",
       "</table>\n",
       "<p>97 rows × 6 columns</p>\n",
       "</div>"
      ],
      "text/plain": [
       "     Nr.            Ortsteil         Bezirk Fläche(km²)  \\\n",
       "0   0101               Mitte          Mitte       10,70   \n",
       "1   0102              Moabit          Mitte        7,72   \n",
       "2   0103        Hansaviertel          Mitte        0,53   \n",
       "3   0104          Tiergarten          Mitte        5,17   \n",
       "4   0105             Wedding          Mitte        9,23   \n",
       "..   ...                 ...            ...         ...   \n",
       "92  1207       Waidmannslust  Reinickendorf        2,30   \n",
       "93  1208              Lübars  Reinickendorf        5,00   \n",
       "94  1209            Wittenau  Reinickendorf        5,90   \n",
       "95  1210  Märkisches Viertel  Reinickendorf        3,20   \n",
       "96  1211         Borsigwalde  Reinickendorf        2,00   \n",
       "\n",
       "   Einwohner[2](31. Dezember 2022) Einwohnerpro km²  \n",
       "0                          107.444           10.041  \n",
       "1                           84.148           10.900  \n",
       "2                            6.070           11.453  \n",
       "3                           16.140             3122  \n",
       "4                           86.514             9373  \n",
       "..                             ...              ...  \n",
       "92                          11.240             4887  \n",
       "93                           5.092             1018  \n",
       "94                          25.346             4296  \n",
       "95                          41.099           12.843  \n",
       "96                           6.911             3456  \n",
       "\n",
       "[97 rows x 6 columns]"
      ]
     },
     "execution_count": 99,
     "metadata": {},
     "output_type": "execute_result"
    }
   ],
   "source": [
    "df_demo"
   ]
  },
  {
   "cell_type": "markdown",
   "id": "ff036ddd",
   "metadata": {},
   "source": [
    "### Rename columns to English "
   ]
  },
  {
   "cell_type": "code",
   "execution_count": 103,
   "id": "52dcf723",
   "metadata": {},
   "outputs": [],
   "source": [
    "df_demo.columns = [\"Nr\",\"District\",\"Administrative_district\",\"Area [km²]\",\"Population\",\"Population per km²\"]"
   ]
  },
  {
   "cell_type": "code",
   "execution_count": 104,
   "id": "afab9ee1",
   "metadata": {},
   "outputs": [
    {
     "data": {
      "text/html": [
       "<div>\n",
       "<style scoped>\n",
       "    .dataframe tbody tr th:only-of-type {\n",
       "        vertical-align: middle;\n",
       "    }\n",
       "\n",
       "    .dataframe tbody tr th {\n",
       "        vertical-align: top;\n",
       "    }\n",
       "\n",
       "    .dataframe thead th {\n",
       "        text-align: right;\n",
       "    }\n",
       "</style>\n",
       "<table border=\"1\" class=\"dataframe\">\n",
       "  <thead>\n",
       "    <tr style=\"text-align: right;\">\n",
       "      <th></th>\n",
       "      <th>Nr</th>\n",
       "      <th>District</th>\n",
       "      <th>Administrative_district</th>\n",
       "      <th>Area [km²]</th>\n",
       "      <th>Population</th>\n",
       "      <th>Population per km²</th>\n",
       "    </tr>\n",
       "  </thead>\n",
       "  <tbody>\n",
       "    <tr>\n",
       "      <th>0</th>\n",
       "      <td>0101</td>\n",
       "      <td>Mitte</td>\n",
       "      <td>Mitte</td>\n",
       "      <td>10,70</td>\n",
       "      <td>107.444</td>\n",
       "      <td>10.041</td>\n",
       "    </tr>\n",
       "    <tr>\n",
       "      <th>1</th>\n",
       "      <td>0102</td>\n",
       "      <td>Moabit</td>\n",
       "      <td>Mitte</td>\n",
       "      <td>7,72</td>\n",
       "      <td>84.148</td>\n",
       "      <td>10.900</td>\n",
       "    </tr>\n",
       "    <tr>\n",
       "      <th>2</th>\n",
       "      <td>0103</td>\n",
       "      <td>Hansaviertel</td>\n",
       "      <td>Mitte</td>\n",
       "      <td>0,53</td>\n",
       "      <td>6.070</td>\n",
       "      <td>11.453</td>\n",
       "    </tr>\n",
       "    <tr>\n",
       "      <th>3</th>\n",
       "      <td>0104</td>\n",
       "      <td>Tiergarten</td>\n",
       "      <td>Mitte</td>\n",
       "      <td>5,17</td>\n",
       "      <td>16.140</td>\n",
       "      <td>3122</td>\n",
       "    </tr>\n",
       "    <tr>\n",
       "      <th>4</th>\n",
       "      <td>0105</td>\n",
       "      <td>Wedding</td>\n",
       "      <td>Mitte</td>\n",
       "      <td>9,23</td>\n",
       "      <td>86.514</td>\n",
       "      <td>9373</td>\n",
       "    </tr>\n",
       "  </tbody>\n",
       "</table>\n",
       "</div>"
      ],
      "text/plain": [
       "     Nr      District Administrative_district Area [km²] Population  \\\n",
       "0  0101         Mitte                   Mitte      10,70    107.444   \n",
       "1  0102        Moabit                   Mitte       7,72     84.148   \n",
       "2  0103  Hansaviertel                   Mitte       0,53      6.070   \n",
       "3  0104    Tiergarten                   Mitte       5,17     16.140   \n",
       "4  0105       Wedding                   Mitte       9,23     86.514   \n",
       "\n",
       "  Population per km²  \n",
       "0             10.041  \n",
       "1             10.900  \n",
       "2             11.453  \n",
       "3               3122  \n",
       "4               9373  "
      ]
     },
     "execution_count": 104,
     "metadata": {},
     "output_type": "execute_result"
    }
   ],
   "source": [
    "df_demo.head()"
   ]
  },
  {
   "cell_type": "markdown",
   "id": "ce298338",
   "metadata": {},
   "source": [
    "#### Export the df to a csv file"
   ]
  },
  {
   "cell_type": "code",
   "execution_count": 105,
   "id": "c4bd6f4a",
   "metadata": {},
   "outputs": [],
   "source": [
    "df_demo.to_csv('df_demo.csv', index=False)"
   ]
  },
  {
   "cell_type": "markdown",
   "id": "2cb552a8",
   "metadata": {},
   "source": []
  }
 ],
 "metadata": {
  "kernelspec": {
   "display_name": "Python 3 (ipykernel)",
   "language": "python",
   "name": "python3"
  },
  "language_info": {
   "codemirror_mode": {
    "name": "ipython",
    "version": 3
   },
   "file_extension": ".py",
   "mimetype": "text/x-python",
   "name": "python",
   "nbconvert_exporter": "python",
   "pygments_lexer": "ipython3",
   "version": "3.10.9"
  }
 },
 "nbformat": 4,
 "nbformat_minor": 5
}
